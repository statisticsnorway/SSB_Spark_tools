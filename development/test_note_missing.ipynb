{
 "cells": [
  {
   "cell_type": "code",
   "execution_count": null,
   "metadata": {},
   "outputs": [],
   "source": [
    "import pandas as pd"
   ]
  },
  {
   "cell_type": "code",
   "execution_count": null,
   "metadata": {},
   "outputs": [],
   "source": [
    "#%run ../../SSB_Spark_tools/data_processing/Utils.py"
   ]
  },
  {
   "cell_type": "code",
   "execution_count": null,
   "metadata": {},
   "outputs": [],
   "source": [
    "%run ../ssb_sparktools/editing/editing.py"
   ]
  },
  {
   "cell_type": "code",
   "execution_count": null,
   "metadata": {},
   "outputs": [],
   "source": [
    "%run ../ssb_sparktools/quality/quality.py"
   ]
  },
  {
   "cell_type": "code",
   "execution_count": null,
   "metadata": {},
   "outputs": [],
   "source": [
    "%run ../ssb_sparktools/processing/processing.py"
   ]
  },
  {
   "cell_type": "code",
   "execution_count": null,
   "metadata": {},
   "outputs": [],
   "source": [
    "skattRaw = spark.read.path('/produkt/skatt/person/temp/tverrsnitt_skattemelding')"
   ]
  },
  {
   "cell_type": "code",
   "execution_count": null,
   "metadata": {},
   "outputs": [],
   "source": [
    "skatt_dict = unpack_parquet(skattRaw, rootdf=True, rootvar=True)"
   ]
  },
  {
   "cell_type": "code",
   "execution_count": null,
   "metadata": {},
   "outputs": [],
   "source": [
    "#Kjører missing_df for alle skatteobjekter og samler resultatet i en dictionary\n",
    "skatt_missing = {}\n",
    "for k in skatt_dict.keys():\n",
    "    skatt_missing[k] = missing_df(skatt_dict[k])"
   ]
  },
  {
   "cell_type": "code",
   "execution_count": null,
   "metadata": {},
   "outputs": [],
   "source": [
    "#Eksempel på resultat fra missing_df\n",
    "skatt_missing['rootdf']"
   ]
  },
  {
   "cell_type": "code",
   "execution_count": null,
   "metadata": {},
   "outputs": [],
   "source": [
    "#Enda et eksempel på resultat fra missing_df\n",
    "skatt_missing['fondskonto']"
   ]
  },
  {
   "cell_type": "code",
   "execution_count": null,
   "metadata": {},
   "outputs": [],
   "source": [
    "#Kjører korrigering på bolske verdier på et gitt datasett. Datasett korrigeres og returneres sammen med log over korrigeringer\n",
    "df_corrected_bool, missing_boolcount = missing_correction_bool(skatt_dict['fondskonto'])\n",
    "for k, v in missing_boolcount.items():\n",
    "    print(k, v)"
   ]
  },
  {
   "cell_type": "code",
   "execution_count": null,
   "metadata": {},
   "outputs": [],
   "source": [
    "#Eksempel før korrigering\n",
    "skatt_dict['fondskonto'][['identifikator', 'overfoertFraBarn']].toPandas()"
   ]
  },
  {
   "cell_type": "code",
   "execution_count": null,
   "metadata": {},
   "outputs": [],
   "source": [
    "#Eksempel etter korrrigering\n",
    "df_corrected_bool[['identifikator', 'overfoertFraBarn']].toPandas()"
   ]
  },
  {
   "cell_type": "code",
   "execution_count": null,
   "metadata": {},
   "outputs": [],
   "source": [
    "#Eksempel før korrigering der overfoertFraBarn skal unntas korrigering\n",
    "skatt_dict['konto'].select('identifikator', 'erBoligsparekontoIAnnenEOeSStat', 'overfoertFraBarn').toPandas()"
   ]
  },
  {
   "cell_type": "code",
   "execution_count": null,
   "metadata": {},
   "outputs": [],
   "source": [
    "#Kjører korrigering på bolske verdier på et gitt datasett med unntak for 1 variabel. Datasett korrigeres og returneres sammen med log over korrigeringer\n",
    "df_corrected_bool, missing_boolcount = missing_correction_bool(skatt_dict['konto'], exception_for=['overfoertFraBarn'])"
   ]
  },
  {
   "cell_type": "code",
   "execution_count": null,
   "metadata": {},
   "outputs": [],
   "source": [
    "#Eksempel før korrigering der overfoertFraBarn skal unntas korrigering\n",
    "df_corrected_bool.select('identifikator', 'erBoligsparekontoIAnnenEOeSStat', 'overfoertFraBarn').toPandas()"
   ]
  },
  {
   "cell_type": "code",
   "execution_count": null,
   "metadata": {},
   "outputs": [],
   "source": [
    "#Kjører korrigering på numeriske verdier på et gitt datasett. Datasett korrigeres og returneres sammen med log over korrigeringer\n",
    "df_corrected_number, missing_numbcount = missing_correction_number(skatt_dict['fondskonto'])\n",
    "for k, v in missing_numbcount.items():\n",
    "    print(k, v)"
   ]
  },
  {
   "cell_type": "code",
   "execution_count": null,
   "metadata": {},
   "outputs": [],
   "source": [
    "#Eksempel før korrigering\n",
    "skatt_dict['fondskonto']\\\n",
    "                [['identifikator', 'skattepliktigTapVedRealisasjonAvOgUttakFraAksjedel','skattepliktigTapVedRealisasjonAvOgUttakFraRentedel',\\\n",
    "                 'verdiFoerVerdsettingsrabattForAksjeOgAksjefond', 'skattefrittUttak', 'benyttetSkjermingsfradrag']]\\\n",
    "                .toPandas()"
   ]
  },
  {
   "cell_type": "code",
   "execution_count": null,
   "metadata": {},
   "outputs": [],
   "source": [
    "#Eksempel etter korrigering\n",
    "df_corrected_number\\\n",
    "                [['identifikator', 'skattepliktigTapVedRealisasjonAvOgUttakFraAksjedel','skattepliktigTapVedRealisasjonAvOgUttakFraRentedel',\\\n",
    "                 'verdiFoerVerdsettingsrabattForAksjeOgAksjefond', 'skattefrittUttak', 'benyttetSkjermingsfradrag']]\\\n",
    "                .toPandas()"
   ]
  },
  {
   "cell_type": "code",
   "execution_count": null,
   "metadata": {},
   "outputs": [],
   "source": [
    "#Kjører korrigering på numeriske verdier på et gitt datasett. Datasett korrigeres og returneres sammen med log over korrigeringer\n",
    "df_corrected_number, missing_numbcount = missing_correction_number(skatt_dict['fondskonto'], exception_for=['skattepliktigTapVedRealisasjonAvOgUttakFraAksjedel'])"
   ]
  },
  {
   "cell_type": "code",
   "execution_count": null,
   "metadata": {},
   "outputs": [],
   "source": [
    "#Eksempel etter korrigering det skattepliktigTapVedRealisasjonAvOgUttakFraAksjedel er unntatt korrigering\n",
    "df_corrected_number\\\n",
    "                [['identifikator', 'skattepliktigTapVedRealisasjonAvOgUttakFraAksjedel','skattepliktigTapVedRealisasjonAvOgUttakFraRentedel',\\\n",
    "                 'verdiFoerVerdsettingsrabattForAksjeOgAksjefond', 'skattefrittUttak', 'benyttetSkjermingsfradrag']]\\\n",
    "                .toPandas()"
   ]
  },
  {
   "cell_type": "code",
   "execution_count": null,
   "metadata": {},
   "outputs": [],
   "source": [
    "#Eksempel som kjører korrigering av numeriske og bolske verdier for alle skatteobjekt og samler loggene i et eget datasett\n",
    "corrected_missing_log = pd.DataFrame(columns=['skatteobjekt', 'datatype', 'variabel', 'antall_korrigeringer'])\n",
    "\n",
    "for k in skatt_dict.keys():\n",
    "    \n",
    "    df, miss_bool = missing_correction_bool(skatt_dict[k])\n",
    "    for l, m in miss_bool.items():\n",
    "        pdrow = pd.DataFrame([[k, 'Boolske', l, m]], columns=['skatteobjekt', 'datatype', 'variabel', 'antall_korrigeringer'])\n",
    "        corrected_missing_log = corrected_missing_log.append(pdrow)\n",
    "        \n",
    "\n",
    "    df, miss_number = missing_correction_number(df)\n",
    "    for l, m in miss_number.items():\n",
    "        pdrow = pd.DataFrame([[k, 'Number', l, m]], columns=['skatteobjekt', 'datatype', 'variabel', 'antall_korrigeringer'])\n",
    "        corrected_missing_log.append(pdrow)\n",
    "        \n",
    "corrected_missing_log = corrected_missing_log.reset_index(drop=True)"
   ]
  },
  {
   "cell_type": "code",
   "execution_count": null,
   "metadata": {},
   "outputs": [],
   "source": [
    "#Log av datesett\n",
    "corrected_missing_log"
   ]
  },
  {
   "cell_type": "code",
   "execution_count": null,
   "metadata": {},
   "outputs": [],
   "source": []
  }
 ],
 "metadata": {
  "kernelspec": {
   "display_name": "Pyspark (local)",
   "language": "python",
   "name": "pyspark_local"
  },
  "language_info": {
   "codemirror_mode": {
    "name": "ipython",
    "version": 3
   },
   "file_extension": ".py",
   "mimetype": "text/x-python",
   "name": "python",
   "nbconvert_exporter": "python",
   "pygments_lexer": "ipython3",
   "version": "3.7.6"
  }
 },
 "nbformat": 4,
 "nbformat_minor": 4
}
