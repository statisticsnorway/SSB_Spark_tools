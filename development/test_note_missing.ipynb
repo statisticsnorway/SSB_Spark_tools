{
 "cells": [
  {
   "cell_type": "code",
   "execution_count": null,
   "metadata": {},
   "outputs": [],
   "source": [
    "import pandas as pd\n",
    "from pyspark import SparkContext\n",
    "#sc = SparkContext.getOrCreate()\n",
    "#sqlContext = SQLContext(sc)\n",
    "spark"
   ]
  },
  {
   "cell_type": "code",
   "execution_count": null,
   "metadata": {},
   "outputs": [],
   "source": [
    "%run ../ssb_sparktools/editing/editing.py"
   ]
  },
  {
   "cell_type": "code",
   "execution_count": null,
   "metadata": {},
   "outputs": [],
   "source": [
    "%run ../ssb_sparktools/quality/quality.py"
   ]
  },
  {
   "cell_type": "code",
   "execution_count": null,
   "metadata": {},
   "outputs": [],
   "source": [
    "%run ../ssb_sparktools/processing/processing.py"
   ]
  },
  {
   "cell_type": "code",
   "execution_count": null,
   "metadata": {},
   "outputs": [],
   "source": [
    "skattRaw = spark.read.path('/produkt/skatt/person/temp/tverrsnitt_skattemelding')"
   ]
  },
  {
   "cell_type": "code",
   "execution_count": null,
   "metadata": {},
   "outputs": [],
   "source": [
    "#skattRaw = spark.read.path('/produkt/skatt/person/temp/tverrsnitt_skattemelding1000rader')"
   ]
  },
  {
   "cell_type": "code",
   "execution_count": null,
   "metadata": {},
   "outputs": [],
   "source": [
    "skattRaw.count()"
   ]
  },
  {
   "cell_type": "code",
   "execution_count": null,
   "metadata": {},
   "outputs": [],
   "source": [
    "skatt_dict = unpack_parquet(skattRaw, rootdf=True, rootvar=True)"
   ]
  },
  {
   "cell_type": "code",
   "execution_count": null,
   "metadata": {},
   "outputs": [],
   "source": [
    "#Kjører missing_df for alle skatteobjekter og samler resultatet i en dictionary\n",
    "skatt_missing = {}\n",
    "for k in skatt_dict.keys():\n",
    "    skatt_missing[k] = missing_df(skatt_dict[k])"
   ]
  },
  {
   "cell_type": "code",
   "execution_count": null,
   "metadata": {},
   "outputs": [],
   "source": [
    "#Eksempel på resultat fra missing_df\n",
    "skatt_missing['rootdf']"
   ]
  },
  {
   "cell_type": "code",
   "execution_count": null,
   "metadata": {},
   "outputs": [],
   "source": [
    "#Enda et eksempel på resultat fra missing_df\n",
    "skatt_missing['fondskonto']"
   ]
  },
  {
   "cell_type": "code",
   "execution_count": null,
   "metadata": {},
   "outputs": [],
   "source": [
    "#Pandas variant\n",
    "#Kjører korrigering på bolske verdier på et gitt datasett. Datasett korrigeres og returneres sammen med log over korrigeringer\n",
    "df_corrected_bool, missing_boolcount = missing_correction_bool(skatt_dict['fondskonto'])\n",
    "missing_boolcount"
   ]
  },
  {
   "cell_type": "code",
   "execution_count": null,
   "metadata": {},
   "outputs": [],
   "source": [
    "#Pandas variant\n",
    "#Eksempel før korrigering\n",
    "skatt_dict['fondskonto'][['identifikator', 'overfoertFraBarn']].toPandas()"
   ]
  },
  {
   "cell_type": "code",
   "execution_count": null,
   "metadata": {},
   "outputs": [],
   "source": [
    "#Pandas variant\n",
    "#Eksempel etter korrrigering\n",
    "df_corrected_bool[['identifikator', 'overfoertFraBarn']].toPandas()"
   ]
  },
  {
   "cell_type": "code",
   "execution_count": null,
   "metadata": {},
   "outputs": [],
   "source": [
    "#Pandas variant\n",
    "#Eksempel før korrigering der overfoertFraBarn skal unntas korrigering\n",
    "skatt_dict['konto'].select('identifikator', 'erBoligsparekontoIAnnenEOeSStat', 'overfoertFraBarn').toPandas()"
   ]
  },
  {
   "cell_type": "code",
   "execution_count": null,
   "metadata": {},
   "outputs": [],
   "source": [
    "#Pandas variant\n",
    "#Kjører korrigering på bolske verdier på et gitt datasett med unntak for 1 variabel. Datasett korrigeres og returneres sammen med log over korrigeringer\n",
    "df_corrected_bool, missing_boolcount = missing_correction_bool(skatt_dict['konto'], exception_for=['overfoertFraBarn'])"
   ]
  },
  {
   "cell_type": "code",
   "execution_count": null,
   "metadata": {},
   "outputs": [],
   "source": [
    "#Pandas variant\n",
    "#Eksempel etter korrigering der overfoertFraBarn skal unntas korrigering\n",
    "df_corrected_bool.select('identifikator', 'erBoligsparekontoIAnnenEOeSStat', 'overfoertFraBarn').toPandas()"
   ]
  },
  {
   "cell_type": "code",
   "execution_count": null,
   "metadata": {},
   "outputs": [],
   "source": [
    "#Pandas variant\n",
    "#Kjører korrigering på numeriske verdier på et gitt datasett. Datasett korrigeres og returneres sammen med log over korrigeringer\n",
    "df_corrected_number, missing_numbcount = missing_correction_number(skatt_dict['fondskonto'])\n",
    "missing_numbcount"
   ]
  },
  {
   "cell_type": "code",
   "execution_count": null,
   "metadata": {},
   "outputs": [],
   "source": [
    "#Pandas variant\n",
    "#Eksempel før korrigering\n",
    "skatt_dict['fondskonto']\\\n",
    "                [['identifikator', 'skattepliktigTapVedRealisasjonAvOgUttakFraAksjedel','skattepliktigTapVedRealisasjonAvOgUttakFraRentedel',\\\n",
    "                 'verdiFoerVerdsettingsrabattForAksjeOgAksjefond', 'skattefrittUttak', 'benyttetSkjermingsfradrag']]\\\n",
    "                .toPandas()"
   ]
  },
  {
   "cell_type": "code",
   "execution_count": null,
   "metadata": {},
   "outputs": [],
   "source": [
    "#Pandas variant\n",
    "#Eksempel etter korrigering\n",
    "df_corrected_number\\\n",
    "                [['identifikator', 'skattepliktigTapVedRealisasjonAvOgUttakFraAksjedel','skattepliktigTapVedRealisasjonAvOgUttakFraRentedel',\\\n",
    "                 'verdiFoerVerdsettingsrabattForAksjeOgAksjefond', 'skattefrittUttak', 'benyttetSkjermingsfradrag']]\\\n",
    "                .toPandas()"
   ]
  },
  {
   "cell_type": "code",
   "execution_count": null,
   "metadata": {},
   "outputs": [],
   "source": [
    "#Pandas variant\n",
    "#Kjører korrigering på numeriske verdier på et gitt datasett der skattepliktigTapVedRealisasjonAvOgUttakFraAksjedel er unntatt korrigering. Datasett korrigeres og returneres sammen med log over korrigeringer\n",
    "df_corrected_number, missing_numbcount = missing_correction_number(skatt_dict['fondskonto'], exception_for=['skattepliktigTapVedRealisasjonAvOgUttakFraAksjedel'])"
   ]
  },
  {
   "cell_type": "code",
   "execution_count": null,
   "metadata": {},
   "outputs": [],
   "source": [
    "#Pandas variant\n",
    "#Eksempel etter korrigering der skattepliktigTapVedRealisasjonAvOgUttakFraAksjedel er unntatt korrigering\n",
    "df_corrected_number\\\n",
    "                [['identifikator', 'skattepliktigTapVedRealisasjonAvOgUttakFraAksjedel','skattepliktigTapVedRealisasjonAvOgUttakFraRentedel',\\\n",
    "                 'verdiFoerVerdsettingsrabattForAksjeOgAksjefond', 'skattefrittUttak', 'benyttetSkjermingsfradrag']]\\\n",
    "                .toPandas()"
   ]
  },
  {
   "cell_type": "code",
   "execution_count": null,
   "metadata": {},
   "outputs": [],
   "source": [
    "%%time\n",
    "#Pandas variant\n",
    "#Eksempel som kjører korrigering av numeriske og bolske verdier for alle skatteobjekt og samler loggene i et eget datasett\n",
    "corrected_missing_log = pd.DataFrame(columns=['dataframe', 'datatype', 'variabel', 'korrigeringer'])\n",
    "\n",
    "for k in skatt_dict.keys():\n",
    "    \n",
    "    df, miss_bool = missing_correction_bool(skatt_dict[k], df_name=k)\n",
    "    corrected_missing_log = corrected_missing_log.append(miss_bool)\n",
    "    df, miss_number = missing_correction_number(df, df_name=k)\n",
    "    corrected_missing_log = corrected_missing_log.append(miss_number)\n",
    "\n",
    "corrected_missing_log = corrected_missing_log.reset_index(drop=True)"
   ]
  },
  {
   "cell_type": "code",
   "execution_count": null,
   "metadata": {},
   "outputs": [],
   "source": [
    "#Pandas variant\n",
    "#Log av datesett\n",
    "corrected_missing_log"
   ]
  },
  {
   "cell_type": "code",
   "execution_count": null,
   "metadata": {},
   "outputs": [],
   "source": [
    "filtercorrect = corrected_missing_log['dataframe']=='aksjeIAksjonaerregisteret'\n",
    "corrected_missing_log[filtercorrect]"
   ]
  },
  {
   "cell_type": "code",
   "execution_count": null,
   "metadata": {},
   "outputs": [],
   "source": [
    "#Spark variant\n",
    "df_corrected_bool, missing_boolcount = spark_missing_correction_bool(skatt_dict['fondskonto']) "
   ]
  },
  {
   "cell_type": "code",
   "execution_count": null,
   "metadata": {},
   "outputs": [],
   "source": [
    "df_corrected_bool[['identifikator', 'overfoertFraBarn']].toPandas()"
   ]
  },
  {
   "cell_type": "code",
   "execution_count": null,
   "metadata": {},
   "outputs": [],
   "source": [
    "#Spark variant\n",
    "#missing_correction_bool\n",
    "#Kjører korrigering på bolske verdier på et gitt datasett. Datasett korrigeres og returneres sammen med log over korrigeringer\n",
    "df_corrected_bool, missing_boolcount = spark_missing_correction_bool(skatt_dict['fondskonto'])\n",
    "missing_boolcount.toPandas()"
   ]
  },
  {
   "cell_type": "code",
   "execution_count": null,
   "metadata": {},
   "outputs": [],
   "source": [
    "df_corrected_bool[['identifikator', 'overfoertFraBarn']].toPandas()"
   ]
  },
  {
   "cell_type": "code",
   "execution_count": null,
   "metadata": {},
   "outputs": [],
   "source": [
    "#spark_missing_correction_bool\n",
    "#Kjører korrigering på bolske verdier på et gitt datasett. Datasett korrigeres og returneres sammen med log over korrigeringer\n",
    "df_corrected_bool, missing_boolcount = spark_missing_correction_bool(skatt_dict['fondskonto'])\n",
    "missing_boolcount.toPandas()"
   ]
  },
  {
   "cell_type": "code",
   "execution_count": null,
   "metadata": {},
   "outputs": [],
   "source": [
    "df_corrected_bool[['identifikator', 'overfoertFraBarn']].toPandas()"
   ]
  },
  {
   "cell_type": "code",
   "execution_count": null,
   "metadata": {},
   "outputs": [],
   "source": [
    "#spark_missing_correction_number\n",
    "#Kjører korrigering på numeriske verdier på et gitt datasett. Datasett korrigeres og returneres sammen med log over korrigeringer\n",
    "df_corrected_number, missing_numbcount = spark_missing_correction_number(skatt_dict['fondskonto'])\n",
    "missing_numbcount.toPandas()"
   ]
  },
  {
   "cell_type": "code",
   "execution_count": null,
   "metadata": {},
   "outputs": [],
   "source": [
    "#Eksempel etter korrigering\n",
    "df_corrected_number\\\n",
    "                [['identifikator', 'skattepliktigTapVedRealisasjonAvOgUttakFraAksjedel','skattepliktigTapVedRealisasjonAvOgUttakFraRentedel',\\\n",
    "                 'verdiFoerVerdsettingsrabattForAksjeOgAksjefond', 'skattefrittUttak', 'benyttetSkjermingsfradrag']]\\\n",
    "                .toPandas()"
   ]
  },
  {
   "cell_type": "code",
   "execution_count": null,
   "metadata": {},
   "outputs": [],
   "source": [
    "#missing_correction_number\n",
    "#Kjører korrigering på numeriske verdier på et gitt datasett. Datasett korrigeres og returneres sammen med log over korrigeringer\n",
    "df_corrected_number, missing_numbcount = spark_missing_correction_number(skatt_dict['fondskonto'])\n",
    "missing_numbcount.toPandas()"
   ]
  },
  {
   "cell_type": "code",
   "execution_count": null,
   "metadata": {},
   "outputs": [],
   "source": [
    "#Eksempel etter korrigering\n",
    "df_corrected_number\\\n",
    "                [['identifikator', 'skattepliktigTapVedRealisasjonAvOgUttakFraAksjedel','skattepliktigTapVedRealisasjonAvOgUttakFraRentedel',\\\n",
    "                 'verdiFoerVerdsettingsrabattForAksjeOgAksjefond', 'skattefrittUttak', 'benyttetSkjermingsfradrag']]\\\n",
    "                .toPandas()"
   ]
  },
  {
   "cell_type": "code",
   "execution_count": null,
   "metadata": {},
   "outputs": [],
   "source": [
    "%%time\n",
    "sc = SparkContext.getOrCreate()\n",
    "sqlContext = SQLContext(sc)\n",
    "missing_variabler = [StructField('dataframe', StringType(), False),\\\n",
    "                   StructField('variabel', StringType(), True),\\\n",
    "                   StructField('datatype', StringType(), True),\\\n",
    "                   StructField('korrigeringer', IntegerType(), False)]\n",
    "missing_schema = StructType(missing_variabler)\n",
    "df_corrections = sqlContext.createDataFrame(sc.emptyRDD(), missing_schema)\n",
    "\n",
    "skatt_test={}\n",
    "\n",
    "missing_corrections = []\n",
    "for k in skatt_dict.keys():\n",
    "    \n",
    "    skatt_test[k], miss_bool = spark_missing_correction_bool(skatt_dict[k], df_name=k)\n",
    "    if len(miss_bool.head(1))>0:\n",
    "        df_corrections= df_corrections.union(miss_bool)        \n",
    "    skatt_test[k], miss_number = spark_missing_correction_number(skatt_dict[k], df_name=k)\n",
    "    if len(miss_number.head(1))>0:\n",
    "        df_corrections= df_corrections.union(miss_number)        \n"
   ]
  },
  {
   "cell_type": "code",
   "execution_count": null,
   "metadata": {},
   "outputs": [],
   "source": [
    "df_corrections.toPandas()"
   ]
  },
  {
   "cell_type": "code",
   "execution_count": null,
   "metadata": {},
   "outputs": [],
   "source": []
  }
 ],
 "metadata": {
  "kernelspec": {
   "display_name": "Pyspark (k8s)",
   "language": "python",
   "name": "pyspark_k8s"
  },
  "language_info": {
   "codemirror_mode": {
    "name": "ipython",
    "version": 3
   },
   "file_extension": ".py",
   "mimetype": "text/x-python",
   "name": "python",
   "nbconvert_exporter": "python",
   "pygments_lexer": "ipython3",
   "version": "3.8.5"
  }
 },
 "nbformat": 4,
 "nbformat_minor": 4
}
