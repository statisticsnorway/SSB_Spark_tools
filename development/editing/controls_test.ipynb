{
 "cells": [
  {
   "cell_type": "markdown",
   "metadata": {},
   "source": [
    "# Leser inn bibliotek og genererer testdata"
   ]
  },
  {
   "cell_type": "markdown",
   "metadata": {},
   "source": [
    "## Leser inn bibliotek og setter opp spark session"
   ]
  },
  {
   "cell_type": "code",
   "execution_count": null,
   "metadata": {},
   "outputs": [],
   "source": [
    "from pyspark.sql import SparkSession\n",
    "from pyspark.sql.types import *"
   ]
  },
  {
   "cell_type": "code",
   "execution_count": null,
   "metadata": {},
   "outputs": [],
   "source": [
    "myspark = SparkSession.builder.getOrCreate()"
   ]
  },
  {
   "cell_type": "code",
   "execution_count": null,
   "metadata": {},
   "outputs": [],
   "source": [
    "%run ../../ssb_sparktools/editing/controls.py"
   ]
  },
  {
   "cell_type": "markdown",
   "metadata": {},
   "source": [
    "## Lager testdata og kodelistedata"
   ]
  },
  {
   "cell_type": "markdown",
   "metadata": {},
   "source": [
    "#### Testdata"
   ]
  },
  {
   "cell_type": "code",
   "execution_count": null,
   "metadata": {},
   "outputs": [],
   "source": [
    "testdata_schema = StructType(\n",
    "    [\n",
    "        StructField(\"identifikator\", StringType(), False),\n",
    "        StructField(\"numbvar\", LongType(), True),\n",
    "        StructField(\"boolvar\", BooleanType(), True),\n",
    "        StructField(\"varenummer\", StringType(), True),\n",
    "    ]\n",
    ")\n",
    "testdata_raw = [\n",
    "    (\"id1\", 1, True, \"#001\"),\n",
    "    (\"id2\", 2, False, \"#002\"),\n",
    "    (\"id3\", None, False, \"#003\"),\n",
    "    (\"id4\", 4, None, \"#004\"),\n",
    "    (\"id5\", 4, True, \"#005\"),\n",
    "]\n",
    "testdata = myspark.createDataFrame(testdata_raw, testdata_schema)"
   ]
  },
  {
   "cell_type": "markdown",
   "metadata": {},
   "source": [
    "#### Kodelistedata"
   ]
  },
  {
   "cell_type": "code",
   "execution_count": null,
   "metadata": {},
   "outputs": [],
   "source": [
    "testdata_kodeliste_schema = StructType(\n",
    "    [\n",
    "        StructField(\"varenummer\", StringType(), True),\n",
    "        StructField(\"frukt\", StringType(), True),\n",
    "    ]\n",
    ")\n",
    "testdata_kodeliste_raw = [\n",
    "    (\"#001\", \"Eple\"),\n",
    "    (\"#002\", \"Banan\"),\n",
    "    (\"#003\", \"Kiwi\"),\n",
    "    (\"#004\", \"Appelsin\"),\n",
    "    (\"#006\", \"Druer\"),\n",
    "]\n",
    "testdata_kodeliste = myspark.createDataFrame(\n",
    "    testdata_kodeliste_raw, testdata_kodeliste_schema\n",
    ")"
   ]
  },
  {
   "cell_type": "markdown",
   "metadata": {},
   "source": [
    "#### Skriver ut testdata som er laget"
   ]
  },
  {
   "cell_type": "code",
   "execution_count": null,
   "metadata": {},
   "outputs": [],
   "source": [
    "testdata.toPandas()"
   ]
  },
  {
   "cell_type": "code",
   "execution_count": null,
   "metadata": {},
   "outputs": [],
   "source": [
    "testdata_kodeliste.toPandas()"
   ]
  },
  {
   "cell_type": "markdown",
   "metadata": {},
   "source": [
    "# Test av funksjonen *listcode_check*"
   ]
  },
  {
   "cell_type": "code",
   "execution_count": null,
   "metadata": {},
   "outputs": [],
   "source": [
    "kodeliste = testdata_kodeliste.select(\"varenummer\")\n",
    "sjekk, sjekkdf = listcode_check(testdata, \"varenummer\", kodeliste)\n",
    "sjekkdf.toPandas()"
   ]
  },
  {
   "cell_type": "code",
   "execution_count": null,
   "metadata": {},
   "outputs": [],
   "source": [
    "sjekk"
   ]
  },
  {
   "cell_type": "markdown",
   "metadata": {},
   "source": [
    "# Test av funksjon compare_dimdf"
   ]
  },
  {
   "cell_type": "code",
   "execution_count": null,
   "metadata": {},
   "outputs": [],
   "source": [
    "compare_dimdf(testdata, testdata)"
   ]
  },
  {
   "cell_type": "code",
   "execution_count": null,
   "metadata": {},
   "outputs": [],
   "source": [
    "nytestdata = testdata.drop(\"numbvar\")\n",
    "compare_dimdf(testdata, nytestdata)"
   ]
  },
  {
   "cell_type": "code",
   "execution_count": null,
   "metadata": {},
   "outputs": [],
   "source": [
    "nytestdata = testdata.filter(F.col(\"identifikator\") != \"id4\")\n",
    "compare_dimdf(testdata, nytestdata)"
   ]
  },
  {
   "cell_type": "code",
   "execution_count": null,
   "metadata": {},
   "outputs": [],
   "source": [
    "nytestdata = testdata.filter(F.col(\"identifikator\") != \"id4\").drop(\"numbvar\")\n",
    "compare_dimdf(testdata, nytestdata)"
   ]
  },
  {
   "cell_type": "markdown",
   "metadata": {},
   "source": [
    "# Test av funksjon compare_columns"
   ]
  },
  {
   "cell_type": "code",
   "execution_count": null,
   "metadata": {},
   "outputs": [],
   "source": [
    "compare_columns(testdata, testdata)"
   ]
  },
  {
   "cell_type": "code",
   "execution_count": null,
   "metadata": {},
   "outputs": [],
   "source": [
    "nytestdata = testdata.drop(\"numbvar\")\n",
    "compare_columns(testdata, nytestdata)"
   ]
  },
  {
   "cell_type": "markdown",
   "metadata": {},
   "source": [
    "# Test av funksjon compare_df"
   ]
  },
  {
   "cell_type": "code",
   "execution_count": null,
   "metadata": {},
   "outputs": [],
   "source": [
    "compare_df(testdata, testdata)"
   ]
  },
  {
   "cell_type": "code",
   "execution_count": null,
   "metadata": {},
   "outputs": [],
   "source": [
    "nytestdata = testdata.withColumn(\n",
    "    \"numbvar\",\n",
    "    F.when(F.col(\"identifikator\") == \"id3\", F.lit(100)).otherwise(F.col(\"numbvar\")),\n",
    ")\n",
    "compare_df(testdata, nytestdata)"
   ]
  }
 ],
 "metadata": {
  "language_info": {
   "codemirror_mode": {
    "name": "ipython"
   },
   "file_extension": ".py",
   "mimetype": "text/x-python",
   "name": "python",
   "nbconvert_exporter": "python"
  }
 },
 "nbformat": 4,
 "nbformat_minor": 4
}
