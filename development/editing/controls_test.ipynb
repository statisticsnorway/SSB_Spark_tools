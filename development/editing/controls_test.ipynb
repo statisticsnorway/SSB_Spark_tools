{
 "cells": [
  {
   "cell_type": "markdown",
   "metadata": {},
   "source": [
    "# Leser inn bibliotek og genererer testdata"
   ]
  },
  {
   "cell_type": "markdown",
   "metadata": {},
   "source": [
    "## Leser inn bibliotek og setter opp spark session"
   ]
  },
  {
   "cell_type": "code",
   "execution_count": null,
   "metadata": {},
   "outputs": [],
   "source": [
    "from pyspark.sql.types import *\n",
    "import dapla as dp\n",
    "\n",
    "spark"
   ]
  },
  {
   "cell_type": "code",
   "execution_count": null,
   "metadata": {},
   "outputs": [],
   "source": [
    "myspark = SparkSession.builder.getOrCreate()"
   ]
  },
  {
   "cell_type": "code",
   "execution_count": null,
   "metadata": {},
   "outputs": [],
   "source": [
    "%run ../../ssb_sparktools/editing/controls.py"
   ]
  },
  {
   "cell_type": "markdown",
   "metadata": {},
   "source": [
    "## Lager testdata og kodelistedata"
   ]
  },
  {
   "cell_type": "markdown",
   "metadata": {},
   "source": [
    "#### Testdata"
   ]
  },
  {
   "cell_type": "code",
   "execution_count": null,
   "metadata": {},
   "outputs": [],
   "source": [
    "testdata_schema = StructType([StructField('identifikator',StringType(),False),StructField('numbvar',LongType(),True),StructField('boolvar',BooleanType(),True)\\\n",
    "                             ,StructField('varenummer',StringType(),True)])\n",
    "testdata_raw = [('id1', 1, True, '#001'),('id2', 2, False, '#002'), ('id3', None, False, '#003'), ('id4', 4, None, '#004'), ('id5', 4, True, '#005')]\n",
    "testdata = myspark.createDataFrame(testdata_raw, testdata_schema)"
   ]
  },
  {
   "cell_type": "markdown",
   "metadata": {},
   "source": [
    "#### Kodelistedata"
   ]
  },
  {
   "cell_type": "code",
   "execution_count": null,
   "metadata": {},
   "outputs": [],
   "source": [
    "testdata_kodeliste_schema = StructType([StructField('varenummer',StringType(),True), StructField('frukt',StringType(),True)])\n",
    "testdata_kodeliste_raw = [('#001', 'Eple'),('#002', 'Banan'), ('#003', 'Kiwi'), ('#004', 'Appelsin'), ('#006', 'Druer')]\n",
    "testdata_kodeliste = myspark.createDataFrame(testdata_kodeliste_raw, testdata_kodeliste_schema)"
   ]
  },
  {
   "cell_type": "markdown",
   "metadata": {},
   "source": [
    "#### Skriver ut testdata som er laget"
   ]
  },
  {
   "cell_type": "code",
   "execution_count": null,
   "metadata": {},
   "outputs": [],
   "source": [
    "testdata.toPandas()"
   ]
  },
  {
   "cell_type": "code",
   "execution_count": null,
   "metadata": {},
   "outputs": [],
   "source": [
    "testdata_kodeliste.toPandas()"
   ]
  },
  {
   "cell_type": "markdown",
   "metadata": {},
   "source": [
    "# Test av funksjonen *listcode_check*"
   ]
  },
  {
   "cell_type": "code",
   "execution_count": null,
   "metadata": {},
   "outputs": [],
   "source": [
    "kodeliste = testdata_kodeliste.select('varenummer')\n",
    "sjekk, sjekkdf = listcode_check(testdata, 'varenummer', kodeliste)    \n",
    "sjekkdf.toPandas()"
   ]
  },
  {
   "cell_type": "code",
   "execution_count": null,
   "metadata": {},
   "outputs": [],
   "source": [
    "sjekk"
   ]
  },
  {
   "cell_type": "markdown",
   "metadata": {},
   "source": [
    "# Test av funksjon compare_dimdf"
   ]
  },
  {
   "cell_type": "code",
   "execution_count": null,
   "metadata": {},
   "outputs": [],
   "source": [
    "compare_dimdf(testdata, testdata)"
   ]
  },
  {
   "cell_type": "code",
   "execution_count": null,
   "metadata": {},
   "outputs": [],
   "source": [
    "nytestdata = testdata.drop('numbvar')\n",
    "compare_dimdf(testdata, nytestdata)"
   ]
  },
  {
   "cell_type": "code",
   "execution_count": null,
   "metadata": {},
   "outputs": [],
   "source": [
    "nytestdata = testdata.filter(F.col('identifikator') != 'id4')\n",
    "compare_dimdf(testdata, nytestdata)"
   ]
  },
  {
   "cell_type": "code",
   "execution_count": null,
   "metadata": {},
   "outputs": [],
   "source": [
    "nytestdata = testdata.filter(F.col('identifikator') != 'id4').drop('numbvar')\n",
    "compare_dimdf(testdata, nytestdata)"
   ]
  },
  {
   "cell_type": "markdown",
   "metadata": {},
   "source": [
    "# Test av funksjon compare_columns"
   ]
  },
  {
   "cell_type": "code",
   "execution_count": null,
   "metadata": {},
   "outputs": [],
   "source": [
    "compare_columns(testdata, testdata)"
   ]
  },
  {
   "cell_type": "code",
   "execution_count": null,
   "metadata": {},
   "outputs": [],
   "source": [
    "nytestdata = testdata.drop('numbvar')\n",
    "compare_columns(testdata, nytestdata)"
   ]
  },
  {
   "cell_type": "code",
   "execution_count": null,
   "metadata": {},
   "outputs": [],
   "source": [
    "nytestdata = testdata.withColumn('numbvar', F.when(F.col('identifikator')=='id3', F.lit(100)).otherwise(F.col('numbvar')))"
   ]
  }
 ],
 "metadata": {
  "kernelspec": {
   "display_name": "Pyspark (k8s cluster)",
   "language": "python",
   "name": "pyspark_k8s"
  },
  "language_info": {
   "codemirror_mode": {
    "name": "ipython",
    "version": 3
   },
   "file_extension": ".py",
   "mimetype": "text/x-python",
   "name": "python",
   "nbconvert_exporter": "python",
   "pygments_lexer": "ipython3",
   "version": "3.8.8"
  }
 },
 "nbformat": 4,
 "nbformat_minor": 4
}
