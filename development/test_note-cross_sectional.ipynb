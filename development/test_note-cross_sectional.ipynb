{
 "cells": [
  {
   "cell_type": "code",
   "execution_count": null,
   "metadata": {},
   "outputs": [],
   "source": [
    "%run ../ssb_sparktools/processing/processing.py"
   ]
  },
  {
   "cell_type": "code",
   "execution_count": null,
   "metadata": {},
   "outputs": [],
   "source": [
    "skatt_raw = spark.read.path(\"/kilde/ske/skatt/person/fastsatt/rådata/2019v1.0.1-20200702\")"
   ]
  },
  {
   "cell_type": "code",
   "execution_count": null,
   "metadata": {},
   "outputs": [],
   "source": [
    "skattemelding_hendelse = skatt_raw\\\n",
    "                        .select('hendelse.*', 'skattemeldingUtflatet')\\\n",
    "                        .withColumnRenamed('registreringstidspunkt', 'hendelsetidspunkt')\\\n",
    "                        .withColumn('hendelsetidspunkt', F.to_timestamp('hendelsetidspunkt', \"yyyy-MM-dd'T'HH:mm:ss.SSS'Z'\"))\n",
    "skattemelding_utflatet = skattemelding_hendelse\\\n",
    "                        .select('sekvensnummer','identifikator', 'gjelderPeriode', 'hendelsetidspunkt', 'hendelsetype', 'skattemeldingUtflatet.*')\\\n",
    "                        .withColumn('registreringstidspunkt', F.to_timestamp('registreringstidspunkt', \"yyyy-MM-dd'T'HH:mm:ss.SSS'Z'\"))\\\n",
    "                        .withColumn('hendelsetype', F.upper(F.col('hendelsetype')))\n",
    "\n",
    "dupvars = list(skattemelding_utflatet.columns)\n",
    "dupvars.remove('sekvensnummer')\n",
    "\n",
    "skattemelding_nodup = skattemelding_utflatet.dropDuplicates(subset=dupvars) \n",
    "                    \n",
    "skattemelding_tverrsnitt =  cross_sectional(skattemelding_nodup, 'hendelsetidspunkt', ['identifikator', 'gjelderPeriode']).cache()\n",
    "\n",
    "tverrsnitt_filtrert = skattemelding_tverrsnitt\\\n",
    "                        .filter(F.col('hendelsetype')!='SLETTET')\\\n",
    "                        .filter(F.col('skjermet')==False)\\\n",
    "                        .filter(F.col('identifikator')==F.col('personidentifikator'))"
   ]
  },
  {
   "cell_type": "code",
   "execution_count": null,
   "metadata": {},
   "outputs": [],
   "source": [
    "skattemelding_tverrsnitt.count()"
   ]
  },
  {
   "cell_type": "code",
   "execution_count": null,
   "metadata": {},
   "outputs": [],
   "source": [
    "testdf = 'ikkedf'\n",
    "skattemelding_tverrsnitt_feildf = cross_sectional(testdf, 'hendelsetidspunkt', ['identifikator', 'gjelderPeriode'])"
   ]
  },
  {
   "cell_type": "code",
   "execution_count": null,
   "metadata": {},
   "outputs": [],
   "source": [
    "testvar = 0\n",
    "skattemelding_tverrsnitt_mcutoff = cross_sectional(skattemelding_nodup, testvar, ['identifikator', 'gjelderPeriode'], None)"
   ]
  },
  {
   "cell_type": "code",
   "execution_count": null,
   "metadata": {},
   "outputs": [],
   "source": [
    "skattemelding_tverrsnitt_mcutoff = cross_sectional(skattemelding_nodup, 'hendelsetidspunkt', 'ikkeliste', None)"
   ]
  },
  {
   "cell_type": "code",
   "execution_count": null,
   "metadata": {},
   "outputs": [],
   "source": [
    "import datetime\n",
    "cotime = datetime.datetime.strptime('2020-06-01', '%Y-%m-%d')\n",
    "skattemelding_tverrsnitt_mcutoff = cross_sectional(skattemelding_nodup, 'hendelsetidspunkt', ['identifikator', 'gjelderPeriode'], cotime)\n",
    "skattemelding_tverrsnitt_mcutoff.count()"
   ]
  },
  {
   "cell_type": "code",
   "execution_count": null,
   "metadata": {},
   "outputs": [],
   "source": [
    "skattemelding_tverrsnitt_feilcutoff = cross_sectional(skattemelding_nodup, 'hendelsetidspunkt', ['identifikator', 'gjelderPeriode'], '2020-06-01')"
   ]
  },
  {
   "cell_type": "code",
   "execution_count": null,
   "metadata": {},
   "outputs": [],
   "source": [
    "so_dict_testtverrsnitt = unpack_parquet(tverrsnitt_filtrert, rootdf=True, rootvar=['personidentifikator'])\n",
    "for k in so_dict_testtverrsnitt.keys():\n",
    "    print(k)"
   ]
  },
  {
   "cell_type": "code",
   "execution_count": null,
   "metadata": {},
   "outputs": [],
   "source": [
    "so_dict_testtverrsnitt['konto'].toPandas()"
   ]
  },
  {
   "cell_type": "code",
   "execution_count": null,
   "metadata": {},
   "outputs": [],
   "source": []
  }
 ],
 "metadata": {
  "kernelspec": {
   "display_name": "Pyspark (k8s)",
   "language": "python",
   "name": "pyspark_k8s"
  },
  "language_info": {
   "codemirror_mode": {
    "name": "ipython",
    "version": 3
   },
   "file_extension": ".py",
   "mimetype": "text/x-python",
   "name": "python",
   "nbconvert_exporter": "python",
   "pygments_lexer": "ipython3",
   "version": "3.8.5"
  }
 },
 "nbformat": 4,
 "nbformat_minor": 4
}
