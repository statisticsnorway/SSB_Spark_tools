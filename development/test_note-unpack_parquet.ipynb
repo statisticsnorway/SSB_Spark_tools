{
 "cells": [
  {
   "cell_type": "markdown",
   "metadata": {},
   "source": [
    "# Test note for utpakkingsfunksjon i Utils.py"
   ]
  },
  {
   "cell_type": "code",
   "execution_count": null,
   "metadata": {},
   "outputs": [],
   "source": [
    "%run ../../SSB_Spark_tools/data_processing/Utils.py"
   ]
  },
  {
   "cell_type": "code",
   "execution_count": null,
   "metadata": {},
   "outputs": [],
   "source": [
    "import pyspark.sql.functions as F"
   ]
  },
  {
   "cell_type": "code",
   "execution_count": null,
   "metadata": {},
   "outputs": [],
   "source": [
    "def tverrsnitt(df, coDate=None):\n",
    "    if coDate!=None:\n",
    "        df = df.filter(F.col('hendelsetidspunkt') <= coDate)\n",
    "    df_dato = df.join(df.groupBy('identifikator', 'gjelderPeriode').agg(F.max('hendelsetidspunkt').alias(\"hendelsetidspunkt\")), ['identifikator', 'gjelderPeriode', 'hendelsetidspunkt'], how='inner')\n",
    "    return df_dato"
   ]
  },
  {
   "cell_type": "code",
   "execution_count": null,
   "metadata": {},
   "outputs": [],
   "source": [
    "skatt_raw = spark.read.path(\"/kilde/ske/skatt/person/fastsatt/rådata/2019v1.0.1\")"
   ]
  },
  {
   "cell_type": "code",
   "execution_count": null,
   "metadata": {},
   "outputs": [],
   "source": [
    "skattemelding_hendelse = skatt_raw\\\n",
    "                        .select('hendelse.*', 'skattemeldingUtflatet')\\\n",
    "                        .withColumnRenamed('registreringstidspunkt', 'hendelsetidspunkt')\\\n",
    "                        .withColumn('hendelsetidspunkt', F.to_timestamp('hendelsetidspunkt', \"yyyy-MM-dd'T'HH:mm:ss.SSS'Z'\"))\n",
    "skattemelding_utflatet = skattemelding_hendelse\\\n",
    "                        .select('identifikator', 'gjelderPeriode', 'hendelsetidspunkt', 'hendelsetype', 'skattemeldingUtflatet.*')\\\n",
    "                        .withColumn('registreringstidspunkt', F.to_timestamp('registreringstidspunkt', \"yyyy-MM-dd'T'HH:mm:ss.SSS'Z'\"))\\\n",
    "                        .cache()\n",
    "                        \n",
    "skattemelding_tverrsnitt =  tverrsnitt(skattemelding_utflatet).cache()\n",
    "\n",
    "tverrsnitt_filtrert = skattemelding_tverrsnitt\\\n",
    "                        .filter(F.col('hendelsetype')!='slettet')\\\n",
    "                        .filter(F.col('skjermet')==False)\\\n",
    "                        .filter(F.col('identifikator')==F.col('personidentifikator'))\\\n",
    "                        .cache()"
   ]
  },
  {
   "cell_type": "code",
   "execution_count": null,
   "metadata": {},
   "outputs": [],
   "source": [
    "so_dict_testutpakking = unpack_parquet(tverrsnitt_filtrert, rootdf=True, rootvar=['personidentifikator'])\n",
    "so_corevar = {}\n",
    "for k in so_dict_testutpakking.keys():\n",
    "    so_corevar[k]= list(so_dict_testutpakking[k].columns)\n",
    "    print(k)"
   ]
  },
  {
   "cell_type": "code",
   "execution_count": null,
   "metadata": {},
   "outputs": [],
   "source": []
  }
 ],
 "metadata": {
  "kernelspec": {
   "display_name": "Pyspark (local)",
   "language": "python",
   "name": "pyspark_local"
  },
  "language_info": {
   "codemirror_mode": {
    "name": "ipython",
    "version": 3
   },
   "file_extension": ".py",
   "mimetype": "text/x-python",
   "name": "python",
   "nbconvert_exporter": "python",
   "pygments_lexer": "ipython3",
   "version": "3.8.5"
  }
 },
 "nbformat": 4,
 "nbformat_minor": 4
}
