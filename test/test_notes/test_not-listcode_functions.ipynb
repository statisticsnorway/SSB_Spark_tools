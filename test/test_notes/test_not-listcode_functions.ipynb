{
 "cells": [
  {
   "cell_type": "code",
   "execution_count": null,
   "metadata": {},
   "outputs": [],
   "source": [
    "from pyspark.sql import DataFrame\n",
    "from pyspark import Row\n",
    "from pyspark.sql.types import *\n",
    "from itertools import chain\n",
    "from pyspark.sql import SparkSession, SQLContext\n",
    "from pyspark import SparkConf, SparkContext\n",
    "import pyspark.sql.functions as F"
   ]
  },
  {
   "cell_type": "code",
   "execution_count": null,
   "metadata": {},
   "outputs": [],
   "source": [
    "%run ../../SSB_Spark_tools/utils/listcode_functions.py"
   ]
  },
  {
   "cell_type": "code",
   "execution_count": null,
   "metadata": {},
   "outputs": [],
   "source": [
    "%run ../../SSB_Spark_tools/data_processing/Utils.py"
   ]
  },
  {
   "cell_type": "code",
   "execution_count": null,
   "metadata": {},
   "outputs": [],
   "source": [
    "tverrsnitt = spark.read.path('/produkt/skatt/person/temp/tverrsnitt_skattemelding')\n",
    "test_dict = pakkut_parq(tverrsnitt, rootdf=True, rootvar=['personidentifikator'])\n",
    "\n",
    "test_dict['loennOgTilsvarendeYtelser_koblet'] = test_dict['loennOgTilsvarendeYtelser_samledeYtelserFraArbeidsgiverPerBehandlingsart']\\\n",
    "            .join(test_dict['loennOgTilsvarendeYtelser'].select('loennOgTilsvarendeYtelser_id', 'overfoertFraBarn'),\\\n",
    "            'loennOgTilsvarendeYtelser_id', how='left')"
   ]
  },
  {
   "cell_type": "code",
   "execution_count": null,
   "metadata": {},
   "outputs": [],
   "source": [
    "ba_kodeliste_df = spark.read.path('/kilde/ske/skatt/person/2019/kodelister/behandlingsart')\n",
    "\n",
    "#Gjør om kodeliste til python liste\n",
    "ba_kodeliste = []\n",
    "for row in ba_kodeliste_df.rdd.collect():\n",
    "    ba_kodeliste.append(row['kode_behandlingsart'])\n",
    "    \n",
    "negtest = ['MAT_OVERTID', 'TFRI_KOST_TJENESTE']\n",
    "sjekk, sjekkdf = listcode_check(test_dict['loennOgTilsvarendeYtelser_koblet'], 'behandlingsart', negtest)\n",
    "#sjekk, sjekkdf = kodeliste_sjekk(so_dict['loennOgTilsvarendeYtelser_koblet'], 'behandlingsart', ba_kodeliste)\n",
    "if (sjekk == False):\n",
    "    ikke_i_kodeliste = sjekkdf.filter(F.col('i_kodeliste')==False)\n",
    "    ikke_i_kodeliste.show()"
   ]
  },
  {
   "cell_type": "code",
   "execution_count": null,
   "metadata": {},
   "outputs": [],
   "source": [
    "test = listcode_lookup(test_dict['loennOgTilsvarendeYtelser_koblet'], 'behandlingsart', ba_kodeliste_df, ['kode_behandlingsart', 'kodetekst_behandlingsart'])    \n",
    "test.toPandas()"
   ]
  },
  {
   "cell_type": "code",
   "execution_count": null,
   "metadata": {},
   "outputs": [],
   "source": []
  }
 ],
 "metadata": {
  "kernelspec": {
   "display_name": "Pyspark (local)",
   "language": "python",
   "name": "pyspark_local"
  },
  "language_info": {
   "codemirror_mode": {
    "name": "ipython",
    "version": 3
   },
   "file_extension": ".py",
   "mimetype": "text/x-python",
   "name": "python",
   "nbconvert_exporter": "python",
   "pygments_lexer": "ipython3",
   "version": "3.7.6"
  }
 },
 "nbformat": 4,
 "nbformat_minor": 4
}
