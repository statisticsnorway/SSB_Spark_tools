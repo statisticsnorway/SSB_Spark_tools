{
 "cells": [
  {
   "cell_type": "code",
   "execution_count": null,
   "metadata": {},
   "outputs": [],
   "source": [
    "import pyspark.sql.functions as F"
   ]
  },
  {
   "cell_type": "code",
   "execution_count": null,
   "metadata": {},
   "outputs": [],
   "source": [
    "%run ../../SSB_Spark_tools/utils/listcode_functions.py"
   ]
  },
  {
   "cell_type": "code",
   "execution_count": null,
   "metadata": {},
   "outputs": [],
   "source": [
    "%run ../../SSB_Spark_tools/data_processing/Utils.py"
   ]
  },
  {
   "cell_type": "code",
   "execution_count": null,
   "metadata": {},
   "outputs": [],
   "source": [
    "# Tar tverrsnitt av skattemeldinger og pakker de ut\n",
    "tverrsnitt = spark.read.path('/produkt/skatt/person/temp/tverrsnitt_skattemelding')\n",
    "test_dict = unpack_parquet(tverrsnitt, rootdf=True, rootvar=['personidentifikator'])\n",
    "\n",
    "test_dict['loennOgTilsvarendeYtelser_koblet'] = test_dict['loennOgTilsvarendeYtelser_samledeYtelserFraArbeidsgiverPerBehandlingsart']\\\n",
    "            .join(test_dict['loennOgTilsvarendeYtelser'].select('loennOgTilsvarendeYtelser_id', 'overfoertFraBarn'),\\\n",
    "            'loennOgTilsvarendeYtelser_id', how='left')"
   ]
  },
  {
   "cell_type": "code",
   "execution_count": null,
   "metadata": {},
   "outputs": [],
   "source": [
    "#Eksempel som viser hvordan hente inn kodeliste og kjøre sjekk med listcode_check funksjonen\n",
    "ba_kodeliste_df = spark.read.path('/kilde/ske/skatt/person/2019/kodelister/behandlingsart')\n",
    "\n",
    "#Gjør om kodeliste til python liste\n",
    "ba_kodeliste = []\n",
    "for row in ba_kodeliste_df.rdd.collect():\n",
    "    ba_kodeliste.append(row['kode_behandlingsart'])\n",
    "\n",
    "#Kjører sjekk\n",
    "sjekk, sjekkdf = listcode_check(test_dict['loennOgTilsvarendeYtelser_koblet'], 'behandlingsart', ba_kodeliste)    \n",
    "\n",
    "#Skriver ut dataframe hvis det er noen som ikke er i kodelisten\n",
    "if (sjekk == False):\n",
    "    ikke_i_kodeliste = sjekkdf.filter(F.col('i_kodeliste')==False)\n",
    "    ikke_i_kodeliste.show()"
   ]
  },
  {
   "cell_type": "code",
   "execution_count": null,
   "metadata": {},
   "outputs": [],
   "source": [
    "#Test som ovenfor men nå med manglende verdier i liste (som er generert selv) for å kunne se output\n",
    "\n",
    "#Lager egen kodeliste som det sjekkes mot\n",
    "negtest = ['MAT_OVERTID', 'TFRI_KOST_TJENESTE']\n",
    "\n",
    "#Kjører sjekk\n",
    "sjekk, sjekkdf = listcode_check(test_dict['loennOgTilsvarendeYtelser_koblet'], 'behandlingsart', negtest)\n",
    "\n",
    "#Skriver ut dataframe hvis det er noen som ikke er i kodelisten\n",
    "if (sjekk == False):\n",
    "    ikke_i_kodeliste = sjekkdf.filter(F.col('i_kodeliste')==False)\n",
    "    ikke_i_kodeliste.show()"
   ]
  },
  {
   "cell_type": "code",
   "execution_count": null,
   "metadata": {},
   "outputs": [],
   "source": [
    "#Eksempel på bruk av listcode_lookup funksjonen\n",
    "test = listcode_lookup(test_dict['loennOgTilsvarendeYtelser_koblet'], 'behandlingsart', ba_kodeliste_df, ['kode_behandlingsart', 'kodetekst_behandlingsart'])    \n",
    "test.toPandas()"
   ]
  },
  {
   "cell_type": "code",
   "execution_count": null,
   "metadata": {},
   "outputs": [],
   "source": []
  }
 ],
 "metadata": {
  "kernelspec": {
   "display_name": "Pyspark (local)",
   "language": "python",
   "name": "pyspark_local"
  },
  "language_info": {
   "codemirror_mode": {
    "name": "ipython",
    "version": 3
   },
   "file_extension": ".py",
   "mimetype": "text/x-python",
   "name": "python",
   "nbconvert_exporter": "python",
   "pygments_lexer": "ipython3",
   "version": "3.7.6"
  }
 },
 "nbformat": 4,
 "nbformat_minor": 4
}
